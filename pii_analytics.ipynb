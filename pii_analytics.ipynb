{
 "cells": [
  {
   "cell_type": "markdown",
   "metadata": {
    "application/vnd.databricks.v1+cell": {
     "cellMetadata": {},
     "inputWidgets": {},
     "nuid": "19609f54-f8fa-42c9-98fd-caba29b0722e",
     "showTitle": false,
     "title": ""
    }
   },
   "source": [
    "## Notebook for pii analytics on text\n",
    "Initial Version 1.0\n",
    "\n",
    "Author: Abhishek\n",
    "\n",
    "Comments: initial pii analtics are created on text "
   ]
  },
  {
   "cell_type": "code",
   "execution_count": null,
   "metadata": {
    "application/vnd.databricks.v1+cell": {
     "cellMetadata": {},
     "inputWidgets": {},
     "nuid": "14125cde-a28f-44cf-a6a7-41042bffed26",
     "showTitle": false,
     "title": ""
    }
   },
   "outputs": [],
   "source": [
    "import os\n",
    "!pip install azure-ai-textanalytics\n",
    "\n",
    "from azure.core.credentials import AzureKeyCredential\n",
    "from azure.ai.textanalytics import TextAnalyticsClient\n",
    "\n",
    "credential = AzureKeyCredential(\"\")\n",
    "endpoint=\"\"\n",
    "\n",
    "text_analytics_client = TextAnalyticsClient(endpoint, credential)"
   ]
  },
  {
   "cell_type": "code",
   "execution_count": null,
   "metadata": {
    "application/vnd.databricks.v1+cell": {
     "cellMetadata": {},
     "inputWidgets": {},
     "nuid": "99f2c99f-6b90-4224-ad36-502682e26382",
     "showTitle": false,
     "title": ""
    }
   },
   "outputs": [],
   "source": [
    "source_db = \"raw\"\n",
    "source_type = \"txt\"\n",
    "target_db = \"curated\"\n",
    "source_object_name = \"Text_Analytics_PII\"\n",
    "target_object_name = \"pii_analytics\"\n",
    "target_type = \"txt\"\n",
    "documents_pii=[\"\"]\n",
    "\n",
    "def read_file(path):\n",
    "    return spark.read.csv(path)\n",
    " \n",
    "path=\"dbfs:/mnt/\"+source_db+\"/\"+source_object_name+\".\"+source_type\n",
    "outputpath = f\"dbfs:/mnt/{target_db}/pii_analytics.txt\"\n",
    "\n",
    "documents_pii=read_file(path)\n",
    "documents_pii=documents_pii.select('_c0').rdd.map(lambda x: x[0]).collect()\n",
    "\n",
    "response = text_analytics_client.recognize_pii_entities(documents_pii, language=\"en\")\n",
    "result = [doc for doc in response if not doc.is_error]\n",
    "\n",
    "str_list = [str(item) for item in result]\n",
    "conv_string = ' '.join(str_list)\n",
    "dbutils.fs.put(outputpath,conv_string,overwrite=True)\n",
    "\n",
    "# for idx, doc in enumerate(result):\n",
    "#     print(f\"Redacted document text: {doc.redacted_text}\")\n",
    "#     for entity in doc.entities:\n",
    "#         print(f\"...Entity: {entity.text}\")\n",
    "#         print(f\"......Category: {entity.category}\")\n",
    "#         print(f\"......Confidence Score: {entity.confidence_score}\")\n",
    "#         print(f\"......Offset: {entity.offset}\")\n"
   ]
  },
  {
   "cell_type": "code",
   "execution_count": null,
   "metadata": {
    "application/vnd.databricks.v1+cell": {
     "cellMetadata": {},
     "inputWidgets": {},
     "nuid": "2e68d09e-e88e-44d8-b55d-f19ad7b92681",
     "showTitle": false,
     "title": ""
    }
   },
   "outputs": [],
   "source": []
  }
 ],
 "metadata": {
  "application/vnd.databricks.v1+notebook": {
   "dashboards": [],
   "language": "python",
   "notebookMetadata": {
    "pythonIndentUnit": 4
   },
   "notebookName": "pii_analytics",
   "widgets": {}
  },
  "language_info": {
   "name": "python"
  }
 },
 "nbformat": 4,
 "nbformat_minor": 0
}
