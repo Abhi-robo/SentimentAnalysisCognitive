{
 "cells": [
  {
   "cell_type": "markdown",
   "metadata": {
    "application/vnd.databricks.v1+cell": {
     "cellMetadata": {},
     "inputWidgets": {},
     "nuid": "cec356d8-f93d-40af-afbb-30ef2c4bbbfc",
     "showTitle": false,
     "title": ""
    }
   },
   "source": [
    "## Notebook for entity analytics on text\n",
    "Initial Version 1.0\n",
    "\n",
    "Author: Abhishek\n",
    "\n",
    "Comments: initial entity analtics are created on text "
   ]
  },
  {
   "cell_type": "code",
   "execution_count": null,
   "metadata": {
    "application/vnd.databricks.v1+cell": {
     "cellMetadata": {},
     "inputWidgets": {},
     "nuid": "4d45abbc-e230-476c-9cac-21c62ff34bd6",
     "showTitle": false,
     "title": ""
    }
   },
   "outputs": [],
   "source": [
    "import os\n",
    "!pip install azure-ai-textanalytics\n",
    "\n",
    "from azure.core.credentials import AzureKeyCredential\n",
    "from azure.ai.textanalytics import TextAnalyticsClient\n",
    "\n",
    "credential = AzureKeyCredential(\"\")\n",
    "endpoint=\"\"\n",
    "\n",
    "text_analytics_client = TextAnalyticsClient(endpoint, credential)"
   ]
  },
  {
   "cell_type": "code",
   "execution_count": null,
   "metadata": {
    "application/vnd.databricks.v1+cell": {
     "cellMetadata": {},
     "inputWidgets": {},
     "nuid": "ae250343-9a06-49c9-a77d-a218ad4c47fa",
     "showTitle": false,
     "title": ""
    }
   },
   "outputs": [],
   "source": [
    "source_db = \"raw\"\n",
    "target_db = \"curated\"\n",
    "source_type = \"txt\"\n",
    "source_object_name = \"Text_Analytics_Entity\"\n",
    "target_object_name = \"entity_analytics\"\n",
    "target_type = \"txt\"\n",
    "documents_entity=[\"\"]\n",
    "\n",
    "\n",
    "def read_file(path):\n",
    "    return spark.read.csv(path)\n",
    " \n",
    "path=\"dbfs:/mnt/\"+source_db+\"/\"+source_object_name+\".\"+source_type\n",
    "outputpath = f\"dbfs:/mnt/{target_db}/entity_analytics.txt\"\n",
    "\n",
    "documents_entity=read_file(path)\n",
    "documents_entity=documents_entity.select('_c0').rdd.map(lambda x: x[0]).collect()\n",
    "\n",
    "response = text_analytics_client.recognize_entities(documents_entity, language=\"en\")\n",
    "result = [doc for doc in response if not doc.is_error]\n",
    "\n",
    "str_list = [str(item) for item in result]\n",
    "conv_string = ' '.join(str_list)\n",
    "dbutils.fs.put(outputpath,conv_string,overwrite=True)\n",
    "\n",
    "# for doc in result:\n",
    "#     for entity in doc.entities:\n",
    "#         print(f\"Entity: {entity.text}\")\n",
    "#         print(f\"...Category: {entity.category}\")\n",
    "#         print(f\"...Confidence Score: {entity.confidence_score}\")\n",
    "#         print(f\"...Offset: {entity.offset}\")"
   ]
  },
  {
   "cell_type": "code",
   "execution_count": null,
   "metadata": {
    "application/vnd.databricks.v1+cell": {
     "cellMetadata": {},
     "inputWidgets": {},
     "nuid": "c63091fb-0b9d-46c4-ada3-1fe262fb9231",
     "showTitle": false,
     "title": ""
    }
   },
   "outputs": [],
   "source": []
  }
 ],
 "metadata": {
  "application/vnd.databricks.v1+notebook": {
   "dashboards": [],
   "language": "python",
   "notebookMetadata": {
    "pythonIndentUnit": 4
   },
   "notebookName": "entity_analytics",
   "widgets": {}
  },
  "language_info": {
   "name": "python"
  }
 },
 "nbformat": 4,
 "nbformat_minor": 0
}
