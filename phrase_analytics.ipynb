{
 "cells": [
  {
   "cell_type": "markdown",
   "metadata": {
    "application/vnd.databricks.v1+cell": {
     "cellMetadata": {},
     "inputWidgets": {},
     "nuid": "78e5a67c-6458-430d-b3b9-b98cb69b7f2f",
     "showTitle": false,
     "title": ""
    }
   },
   "source": [
    "## Notebook for phrase analytics on text\n",
    "Initial Version 1.0\n",
    "\n",
    "Author: Abhishek\n",
    "\n",
    "Comments: initial phrase analtics are created for phrase analytics on text "
   ]
  },
  {
   "cell_type": "code",
   "execution_count": null,
   "metadata": {
    "application/vnd.databricks.v1+cell": {
     "cellMetadata": {},
     "inputWidgets": {},
     "nuid": "4cdd31ab-889d-4b10-800b-b499f495b94d",
     "showTitle": false,
     "title": ""
    }
   },
   "outputs": [],
   "source": [
    "import os\n",
    "!pip install azure-ai-textanalytics\n",
    "\n",
    "from azure.core.credentials import AzureKeyCredential\n",
    "from azure.ai.textanalytics import TextAnalyticsClient\n",
    "\n",
    "credential = AzureKeyCredential(\"\")\n",
    "endpoint=\"\"\n",
    "\n",
    "text_analytics_client = TextAnalyticsClient(endpoint, credential)"
   ]
  },
  {
   "cell_type": "code",
   "execution_count": null,
   "metadata": {
    "application/vnd.databricks.v1+cell": {
     "cellMetadata": {},
     "inputWidgets": {},
     "nuid": "bfec7869-82c7-4a5b-85bb-02fce665b3d9",
     "showTitle": false,
     "title": ""
    }
   },
   "outputs": [],
   "source": [
    "source_db = \"raw\"\n",
    "source_type = \"txt\"\n",
    "source_object_name = \"Text_Analytics_Key_Phrases\"\n",
    "target_db = \"curated\"\n",
    "target_object_name = \"phrase_analytics\"\n",
    "target_type = \"txt\"\n",
    "documents_Key_Phrase=[\"\"]\n",
    "\n",
    "def read_file(path):\n",
    "    return spark.read.csv(path)\n",
    " \n",
    "path=\"dbfs:/mnt/\"+source_db+\"/\"+source_object_name+\".\"+source_type\n",
    "outputpath = f\"dbfs:/mnt/{target_db}/phrase_analytics.txt\"\n",
    "\n",
    "documents_Key_Phrase=read_file(path)\n",
    "documents_Key_Phrase=documents_Key_Phrase.select('_c0').rdd.map(lambda x: x[0]).collect()\n",
    "\n",
    "response = text_analytics_client.extract_key_phrases(documents_Key_Phrase, language=\"en\")\n",
    "result = [doc for doc in response if not doc.is_error]\n",
    "\n",
    "str_list = [str(item) for item in result]\n",
    "conv_string = ' '.join(str_list)\n",
    "dbutils.fs.put(outputpath,conv_string,overwrite=True)\n",
    "\n",
    "# for doc in result:\n",
    "#     print(doc.key_phrases)"
   ]
  }
 ],
 "metadata": {
  "application/vnd.databricks.v1+notebook": {
   "dashboards": [],
   "language": "python",
   "notebookMetadata": {
    "pythonIndentUnit": 4
   },
   "notebookName": "phrase_analytics",
   "widgets": {}
  },
  "language_info": {
   "name": "python"
  }
 },
 "nbformat": 4,
 "nbformat_minor": 0
}
